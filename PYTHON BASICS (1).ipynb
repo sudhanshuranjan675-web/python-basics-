{
 "cells": [
  {
   "cell_type": "code",
   "execution_count": null,
   "id": "558204c7-26b4-418b-855c-a10bc28a71d6",
   "metadata": {},
   "outputs": [],
   "source": [
    "PYTHON BASICS "
   ]
  },
  {
   "cell_type": "code",
   "execution_count": 58,
   "id": "074db775-572b-4e06-b6f3-4aa00adbd54d",
   "metadata": {},
   "outputs": [
    {
     "ename": "SyntaxError",
     "evalue": "invalid character '’' (U+2019) (2376316982.py, line 15)",
     "output_type": "error",
     "traceback": [
      "  \u001b[36mCell\u001b[39m\u001b[36m \u001b[39m\u001b[32mIn[58]\u001b[39m\u001b[32m, line 15\u001b[39m\n\u001b[31m    \u001b[39m\u001b[31mPython’s interpreter is CPython by default\u001b[39m\n          ^\n\u001b[31mSyntaxError\u001b[39m\u001b[31m:\u001b[39m invalid character '’' (U+2019)\n"
     ]
    }
   ],
   "source": [
    "Q1 What is Python, and why is it popular \n",
    "\n",
    "-> Python is a high-level, interpreted, general-purpose programming language known for its simple syntax and readability.\n",
    "Reasons for popularity:\n",
    "Easy to learn and use.\n",
    "Large standard library.\n",
    "Cross-platform support.\n",
    "Huge community and third-party modules.\n",
    "Widely used in web development, data science, AI, and automation.\n",
    "    \n",
    "Q2  What is an interpreter in Python\n",
    "\n",
    "-> An interpreter is a program that executes Python code line-by-line instead of compiling it into machine code first.\n",
    "  This makes debugging easier.\n",
    "   Python’s interpreter is CPython by default\n",
    "\n",
    "Q3 What are pre-defined keywords in Python \n",
    "    \n",
    "-> Predefined keywords are reserved words that have special meanings in Python and cannot be used as variable names.\n",
    "Examples: if, else, while, True, False, def, class\n",
    "\n",
    "Q4 Can keywords be used as variable names \n",
    "\n",
    "-> No. Keywords cannot be used as variable names because they have predefined meanings in Python.\n",
    "Example:\n",
    "for = 5   # ❌ This will cause a SyntaxError\n",
    "\n",
    "Q5 What is mutability in Python?\n",
    "    \n",
    "-> Mutability refers to whether the value of an object can be changed after creation. Mutable objects: Can be changed (e.g., lists, dictionaries, sets).\n",
    "Immutable objects: Cannot be changed (e.g., strings, tuples, integers).\n",
    "\n",
    "Q6 Why are lists mutable but tuples are immutable?\n",
    "\n",
    "-> Lists store references to elements and allow modification (add, remove, update) after creation.\n",
    "\n",
    "Tuples store fixed data and do not allow changing elements once created, which makes them immutable \n",
    "Q7  Difference between == and is\n",
    "== → Compares values of two objects.\n",
    "is → Compares memory addresses (whether two references point to the same object).\n",
    "Example:\n",
    "a = [1,2]\n",
    "b = [1,2]\n",
    "print(a == b)  # True (same values)\n",
    "print(a is b)  # False (different objects in memory)\n",
    "\n"
   ]
  },
  {
   "cell_type": "code",
   "execution_count": null,
   "id": "74eb7e46-3acc-46bd-9bde-75cb7b7b2c6f",
   "metadata": {},
   "outputs": [],
   "source": [
    "Q8 . Logical operators in Python\n",
    "-> and → True if both conditions are True.\n",
    "or → True if at least one condition is True.\n",
    "not → Reverses the Boolean value.\n",
    "\n",
    "Q9  What is type casting in Python?\n",
    "-> Type casting is converting a value from one data type to another.\n",
    "Implicit casting: Done automatically by Python.\n",
    "Explicit casting: Done manually using functions like int(), float(), str()\n",
    "\n",
    "    "
   ]
  },
  {
   "cell_type": "code",
   "execution_count": null,
   "id": "1b853c94-541f-45dd-9310-4ab2f8d7ecb5",
   "metadata": {},
   "outputs": [],
   "source": []
  },
  {
   "cell_type": "code",
   "execution_count": 60,
   "id": "ad874974-abca-4d00-ac71-d59307c02ae1",
   "metadata": {},
   "outputs": [
    {
     "ename": "SyntaxError",
     "evalue": "invalid syntax (2368405128.py, line 2)",
     "output_type": "error",
     "traceback": [
      "  \u001b[36mCell\u001b[39m\u001b[36m \u001b[39m\u001b[32mIn[60]\u001b[39m\u001b[32m, line 2\u001b[39m\n\u001b[31m    \u001b[39m\u001b[31mImplicit: Python automatically converts the type when safe.\u001b[39m\n                     ^\n\u001b[31mSyntaxError\u001b[39m\u001b[31m:\u001b[39m invalid syntax\n"
     ]
    }
   ],
   "source": [
    "10. Difference between implicit and explicit type casting\n",
    "Implicit: Python automatically converts the type when safe.\n",
    "\n",
    "x = 5\n",
    "y = 2.0\n",
    "print(x + y)  # 7.0 (int converted to float)\n",
    "\n",
    "Explicit: Programmer manually converts using casting functions.\n",
    "\n",
    "x = \"10\"\n",
    "y = int(x)"
   ]
  },
  {
   "cell_type": "code",
   "execution_count": null,
   "id": "27106dda-9ff5-42f7-bc46-991fda8bb21d",
   "metadata": {},
   "outputs": [],
   "source": [
    "Q11. Purpose of conditional statements in Python\n",
    "\n",
    "->Conditional statements (if, elif, else) control the flow of a program by executing code only when a certain condition is true.\n",
    "    \n",
    "Q12 12. How does the if statement work?\n",
    "\n",
    "-> Evaluates the given condition.\n",
    "If True → Executes the block of code under it.\n",
    "If False → Skips to elif or else if provided.\n",
    "\n",
    "Q13. Difference between for and while loops\n",
    "\n",
    "-> for loop: Used when the number of iterations is known (iterates over sequences).\n",
    "    while loop: Used when the number of iterations is unknown and depends on a condition.\n",
    "\n",
    "Q14. Scenario where while loop is more suitable than for loop\n",
    "\n",
    "->When you don’t know in advance how many times to loop, and the loop depends on a condition.\n",
    "  Example: Reading user input until they type \"exit\".\n",
    "  while True:\n",
    "    text = input(\"Enter text (type 'exit' to quit): \")\n",
    "    if text.lower() == \"exit\":\n",
    "        break\n"
   ]
  },
  {
   "cell_type": "code",
   "execution_count": 1,
   "id": "86435cc3-dc19-4697-a4c6-44a4e25a1e3d",
   "metadata": {},
   "outputs": [
    {
     "name": "stdout",
     "output_type": "stream",
     "text": [
      "hello world\n"
     ]
    }
   ],
   "source": [
    "# Write a Python program to print \"Hello, World!y\n",
    "print (\"hello world\")"
   ]
  },
  {
   "cell_type": "code",
   "execution_count": 3,
   "id": "1064d720-e342-4e92-8f41-480066bee85a",
   "metadata": {},
   "outputs": [
    {
     "name": "stdin",
     "output_type": "stream",
     "text": [
      "sudhanshu ranjan: \n",
      "24: \n"
     ]
    },
    {
     "name": "stdout",
     "output_type": "stream",
     "text": [
      ",Age:\n"
     ]
    }
   ],
   "source": [
    "# Write a Python program that displays your name and age8\n",
    "name=input(\"sudhanshu ranjan:\")\n",
    "age = input(\"24:\")\n",
    "print(f\"{name},Age:{age}\")"
   ]
  },
  {
   "cell_type": "code",
   "execution_count": 6,
   "id": "6626d287-fb2f-4c7c-818e-60000e9fb742",
   "metadata": {},
   "outputs": [
    {
     "name": "stdout",
     "output_type": "stream",
     "text": [
      "['False', 'None', 'True', 'and', 'as', 'assert', 'async', 'await', 'break', 'class', 'continue', 'def', 'del', 'elif', 'else', 'except', 'finally', 'for', 'from', 'global', 'if', 'import', 'in', 'is', 'lambda', 'nonlocal', 'not', 'or', 'pass', 'raise', 'return', 'try', 'while', 'with', 'yield']\n"
     ]
    }
   ],
   "source": [
    "# Write code to print all the pre-defined keywords in Python using the keyword library8\n",
    "import keyword \n",
    "print(keyword.kwlist)"
   ]
  },
  {
   "cell_type": "code",
   "execution_count": 36,
   "id": "c2d9694b-123a-4ed5-8b41-dfa1340c8028",
   "metadata": {},
   "outputs": [
    {
     "ename": "IndentationError",
     "evalue": "expected an indented block after 'else' statement on line 5 (1329881624.py, line 6)",
     "output_type": "error",
     "traceback": [
      "  \u001b[36mCell\u001b[39m\u001b[36m \u001b[39m\u001b[32mIn[36]\u001b[39m\u001b[32m, line 6\u001b[39m\n\u001b[31m    \u001b[39m\u001b[31mprint (f\"{fire}\")\u001b[39m\n    ^\n\u001b[31mIndentationError\u001b[39m\u001b[31m:\u001b[39m expected an indented block after 'else' statement on line 5\n"
     ]
    }
   ],
   "source": [
    "# Write code to print all the pre-defined keywords in Python using the keyword library8\n",
    "import keyword \n",
    "word=apple\n",
    "if keyword.iskeyword(word):\n",
    "   print(f\"{true}\")\n",
    "else:\n",
    "print (f\"{fire}\")"
   ]
  },
  {
   "cell_type": "code",
   "execution_count": 11,
   "id": "16063555-8fc8-415c-8ee0-8bd37264971d",
   "metadata": {},
   "outputs": [
    {
     "name": "stdout",
     "output_type": "stream",
     "text": [
      "list [1, 2, 3, 'apple', 5.5]\n",
      "tuple (1, 2, 3, 'apple', 5.5)\n"
     ]
    }
   ],
   "source": [
    "#5. Create a list and tuple in Python, and demonstrate how attempting to change an element works differently\n",
    "for each.\n",
    "my_list=[1,2,3,\"apple\",5.5]\n",
    "my_tuple=(1,2,3,\"apple\",5.5)\n",
    "print(\"list\",my_list)\n",
    "print(\"tuple\",my_tuple)"
   ]
  },
  {
   "cell_type": "code",
   "execution_count": 17,
   "id": "fbda35d9-2432-4975-837c-b56b7d4e331d",
   "metadata": {},
   "outputs": [
    {
     "ename": "TypeError",
     "evalue": "modify_list() takes 1 positional argument but 3 were given",
     "output_type": "error",
     "traceback": [
      "\u001b[31m---------------------------------------------------------------------------\u001b[39m",
      "\u001b[31mTypeError\u001b[39m                                 Traceback (most recent call last)",
      "\u001b[36mCell\u001b[39m\u001b[36m \u001b[39m\u001b[32mIn[17]\u001b[39m\u001b[32m, line 11\u001b[39m\n\u001b[32m      8\u001b[39m my_list=[\u001b[32m1\u001b[39m,\u001b[32m2\u001b[39m,\u001b[32m3\u001b[39m]\n\u001b[32m      9\u001b[39m my_tuple=(\u001b[32m1\u001b[39m,\u001b[32m2\u001b[39m,\u001b[32m3\u001b[39m)\n\u001b[32m---> \u001b[39m\u001b[32m11\u001b[39m \u001b[43mmodify_list\u001b[49m\u001b[43m(\u001b[49m\u001b[32;43m1\u001b[39;49m\u001b[43m,\u001b[49m\u001b[32;43m2\u001b[39;49m\u001b[43m,\u001b[49m\u001b[32;43m3\u001b[39;49m\u001b[43m)\u001b[49m\n\u001b[32m     12\u001b[39m my_tuple=modify_tuple(\u001b[32m1\u001b[39m,\u001b[32m2\u001b[39m,\u001b[32m3\u001b[39m)\n\u001b[32m     14\u001b[39m \u001b[38;5;28mprint\u001b[39m(\u001b[33m\"\u001b[39m\u001b[33mlist after function\u001b[39m\u001b[33m\"\u001b[39m,my_list)\u001b[38;5;66;03m#mutable\u001b[39;00m\n",
      "\u001b[31mTypeError\u001b[39m: modify_list() takes 1 positional argument but 3 were given"
     ]
    }
   ],
   "source": [
    "#6. Write a function to demonstrate the behavior of mutable and immutable arguments\n",
    "def modify_list(lst):\n",
    "  lst.apped(100)\n",
    "\n",
    "def modify_tuple(tpl):\n",
    "  tpl=tpl+(100,)\n",
    "  return tpl\n",
    "\n",
    "my_list=[1,2,3]\n",
    "my_tuple=(1,2,3)\n",
    "\n",
    "modify_list(1,2,3)\n",
    "my_tuple=modify_tuple(1,2,3)\n",
    "\n",
    "print(\"list after function\",my_list)#mutable\n",
    "print(\"tuple after function\",my_tuple)#immutable "
   ]
  },
  {
   "cell_type": "code",
   "execution_count": 26,
   "id": "45201643-bf2b-4ad8-969b-97038692d498",
   "metadata": {},
   "outputs": [
    {
     "name": "stdin",
     "output_type": "stream",
     "text": [
      "5 6\n",
      "7 4\n"
     ]
    },
    {
     "name": "stdout",
     "output_type": "stream",
     "text": [
      "sum: 64\n"
     ]
    },
    {
     "ename": "TypeError",
     "evalue": "unsupported operand type(s) for -: 'str' and 'str'",
     "output_type": "error",
     "traceback": [
      "\u001b[31m---------------------------------------------------------------------------\u001b[39m",
      "\u001b[31mTypeError\u001b[39m                                 Traceback (most recent call last)",
      "\u001b[36mCell\u001b[39m\u001b[36m \u001b[39m\u001b[32mIn[26]\u001b[39m\u001b[32m, line 4\u001b[39m\n\u001b[32m      2\u001b[39m b=\u001b[38;5;28minput\u001b[39m(\u001b[33m\"\u001b[39m\u001b[33m7\u001b[39m\u001b[33m\"\u001b[39m)\n\u001b[32m      3\u001b[39m \u001b[38;5;28mprint\u001b[39m (\u001b[33m\"\u001b[39m\u001b[33msum:\u001b[39m\u001b[33m\"\u001b[39m,a+b)\n\u001b[32m----> \u001b[39m\u001b[32m4\u001b[39m \u001b[38;5;28mprint\u001b[39m (\u001b[33m\"\u001b[39m\u001b[33mdifference:\u001b[39m\u001b[33m\"\u001b[39m,\u001b[43ma\u001b[49m\u001b[43m-\u001b[49m\u001b[43mb\u001b[49m)\n\u001b[32m      5\u001b[39m \u001b[38;5;28mprint\u001b[39m(\u001b[33m\"\u001b[39m\u001b[33mproduct:\u001b[39m\u001b[33m\"\u001b[39m,a*b)\n\u001b[32m      6\u001b[39m \u001b[38;5;28mprint\u001b[39m(\u001b[33m\"\u001b[39m\u001b[33mquotient:\u001b[39m\u001b[33m\"\u001b[39m,a/b)\n",
      "\u001b[31mTypeError\u001b[39m: unsupported operand type(s) for -: 'str' and 'str'"
     ]
    }
   ],
   "source": [
    "#7. Write a program that performs basic arithmetic operations on two user-input numbers\n",
    "a=input (\"5\")\n",
    "b=input(\"7\")\n",
    "print (\"sum:\",a+b)\n",
    "print (\"difference:\",a-b)\n",
    "print(\"product:\",a*b)\n",
    "print(\"quotient:\",a/b)"
   ]
  },
  {
   "cell_type": "code",
   "execution_count": 24,
   "id": "ccf2d23e-bc16-46b7-979a-342395367dae",
   "metadata": {},
   "outputs": [
    {
     "name": "stdout",
     "output_type": "stream",
     "text": [
      "x and y: False\n",
      "x or y: True\n",
      "not x: False\n"
     ]
    }
   ],
   "source": [
    "#8. Write a program to demonstrate the use of logical operators.\n",
    "x=True\n",
    "y=False\n",
    "print(\"x and y:\", x and y)\n",
    "print(\"x or y:\", x or y)\n",
    "print(\"not x:\", not x)"
   ]
  },
  {
   "cell_type": "code",
   "execution_count": 37,
   "id": "f392cb8d-47a4-4536-a3fb-bcc53a7a8435",
   "metadata": {},
   "outputs": [
    {
     "name": "stdout",
     "output_type": "stream",
     "text": [
      "integer: 5\n",
      "float: 5.0\n",
      "Boolean: True\n"
     ]
    }
   ],
   "source": [
    "#9. Write a Python program to convert user input from string to integer, float, and boolean types.\n",
    "s=5\n",
    "print(\"integer:\",int(s))\n",
    "print(\"float:\",float(s))\n",
    "print(\"Boolean:\",bool(s))"
   ]
  },
  {
   "cell_type": "code",
   "execution_count": 29,
   "id": "3935b6e1-9cff-4e6a-87cd-8544e6357b7e",
   "metadata": {},
   "outputs": [
    {
     "name": "stdout",
     "output_type": "stream",
     "text": [
      "integers: [10, 20, 0]\n"
     ]
    },
    {
     "ename": "NameError",
     "evalue": "name 'float_list' is not defined",
     "output_type": "error",
     "traceback": [
      "\u001b[31m---------------------------------------------------------------------------\u001b[39m",
      "\u001b[31mNameError\u001b[39m                                 Traceback (most recent call last)",
      "\u001b[36mCell\u001b[39m\u001b[36m \u001b[39m\u001b[32mIn[29]\u001b[39m\u001b[32m, line 7\u001b[39m\n\u001b[32m      4\u001b[39m bool_list=[\u001b[38;5;28mbool\u001b[39m(\u001b[38;5;28mint\u001b[39m(\u001b[38;5;28mfloat\u001b[39m(i))) \u001b[38;5;28;01mfor\u001b[39;00m i \u001b[38;5;129;01min\u001b[39;00m my_list]\n\u001b[32m      6\u001b[39m \u001b[38;5;28mprint\u001b[39m(\u001b[33m\"\u001b[39m\u001b[33mintegers:\u001b[39m\u001b[33m\"\u001b[39m,int_list)\n\u001b[32m----> \u001b[39m\u001b[32m7\u001b[39m \u001b[38;5;28mprint\u001b[39m(\u001b[33m\"\u001b[39m\u001b[33mfloats:\u001b[39m\u001b[33m\"\u001b[39m,\u001b[43mfloat_list\u001b[49m)\n\u001b[32m      8\u001b[39m \u001b[38;5;28mprint\u001b[39m(\u001b[33m\"\u001b[39m\u001b[33mbooleans:\u001b[39m\u001b[33m\"\u001b[39m,bool_list)\n",
      "\u001b[31mNameError\u001b[39m: name 'float_list' is not defined"
     ]
    }
   ],
   "source": [
    "#10. Write code to demonstrate type casting with list elements.\n",
    "my_list=[\"10\",\"20.5\",\"0\"]\n",
    "int_list=[int(float(i)) for i in my_list]\n",
    "flaot_list=[float(i) for i in my_list]\n",
    "bool_list=[bool(int(float(i))) for i in my_list]\n",
    "\n",
    "print(\"integers:\",int_list)\n",
    "print(\"floats:\",float_list)\n",
    "print(\"booleans:\",bool_list)\n"
   ]
  },
  {
   "cell_type": "code",
   "execution_count": 32,
   "id": "1910fd27-bd12-4b2b-a6b4-cd8a96897ba0",
   "metadata": {},
   "outputs": [
    {
     "name": "stdout",
     "output_type": "stream",
     "text": [
      "positive\n"
     ]
    }
   ],
   "source": [
    "11. Write a program that checks if a number is positive, negative, or zero\n",
    "num=5\n",
    "if num>0:\n",
    "   print(\"positive\")\n",
    "elif num<0:\n",
    "       print(\"negative\")\n",
    "else:\n",
    "       print(\"zero\")"
   ]
  },
  {
   "cell_type": "code",
   "execution_count": 38,
   "id": "1d558352-379c-424e-a158-f0b60ae4abdd",
   "metadata": {},
   "outputs": [
    {
     "name": "stdout",
     "output_type": "stream",
     "text": [
      "1\n",
      "2\n",
      "3\n",
      "4\n",
      "5\n",
      "6\n",
      "7\n",
      "8\n",
      "9\n",
      "10\n"
     ]
    }
   ],
   "source": [
    "#12. Write a for loop to print numbers from 1 to 10.\n",
    "#print numbers from 1 to 10\n",
    "for i in range (1,11):\n",
    "    print(i)"
   ]
  },
  {
   "cell_type": "code",
   "execution_count": 39,
   "id": "6062d4a6-c1c8-4ace-ad8b-3c758774e295",
   "metadata": {},
   "outputs": [
    {
     "name": "stdout",
     "output_type": "stream",
     "text": [
      "2\n",
      "4\n",
      "6\n",
      "8\n",
      "10\n",
      "12\n",
      "14\n",
      "16\n",
      "18\n",
      "20\n",
      "22\n",
      "24\n",
      "26\n",
      "28\n",
      "30\n",
      "32\n",
      "34\n",
      "36\n",
      "38\n",
      "40\n",
      "42\n",
      "44\n",
      "46\n",
      "48\n",
      "50\n"
     ]
    }
   ],
   "source": [
    "#13. Write a Python program to find the sum of all even numbers between 1 and 50.\n",
    "#print even numbers between 1 and 50\n",
    "for i in range (2,51,2):\n",
    "    print(i)"
   ]
  },
  {
   "cell_type": "code",
   "execution_count": 44,
   "id": "07ee8ae4-15fb-4657-af36-9dcb13e36817",
   "metadata": {},
   "outputs": [
    {
     "name": "stdout",
     "output_type": "stream",
     "text": [
      "reversed string: dis\n"
     ]
    }
   ],
   "source": [
    "#14. Write a program to reverse a string using a while loop.\n",
    "#reverse a string\n",
    "text=\"sid\"\n",
    "print(\"reversed string:\",text[::-1])"
   ]
  },
  {
   "cell_type": "code",
   "execution_count": 56,
   "id": "18fae922-071d-4c0d-94e9-3c0925fe00f6",
   "metadata": {},
   "outputs": [
    {
     "ename": "IndentationError",
     "evalue": "unindent does not match any outer indentation level (<string>, line 7)",
     "output_type": "error",
     "traceback": [
      "  \u001b[36mFile \u001b[39m\u001b[32m<string>:7\u001b[39m\n\u001b[31m    \u001b[39m\u001b[31mi=+1\u001b[39m\n        ^\n\u001b[31mIndentationError\u001b[39m\u001b[31m:\u001b[39m unindent does not match any outer indentation level\n"
     ]
    }
   ],
   "source": [
    "#15. Write a Python program to calculate the factorial of a number provided by the user using a while loop.\n",
    "#factorial using while loop \n",
    "num=\"1\"\n",
    "fact=1 \n",
    "i=5\n",
    "while i<=num:\n",
    "     fact*=i\n",
    "    i=+1\n",
    " print(\"factorial:\",fact)"
   ]
  },
  {
   "cell_type": "code",
   "execution_count": null,
   "id": "92227d42-ec65-4be8-8eae-762ee7bc4b05",
   "metadata": {},
   "outputs": [],
   "source": []
  }
 ],
 "metadata": {
  "kernelspec": {
   "display_name": "Python 3 (ipykernel)",
   "language": "python",
   "name": "python3"
  },
  "language_info": {
   "codemirror_mode": {
    "name": "ipython",
    "version": 3
   },
   "file_extension": ".py",
   "mimetype": "text/x-python",
   "name": "python",
   "nbconvert_exporter": "python",
   "pygments_lexer": "ipython3",
   "version": "3.13.5"
  }
 },
 "nbformat": 4,
 "nbformat_minor": 5
}
